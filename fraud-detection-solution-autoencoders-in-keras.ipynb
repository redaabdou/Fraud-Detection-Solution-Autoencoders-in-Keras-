{
 "cells": [
  {
   "cell_type": "markdown",
   "metadata": {},
   "source": [
    "This notebook will focus on how to detecte fraudulent transactions using Autoencoders in Keras."
   ]
  },
  {
   "cell_type": "markdown",
   "metadata": {},
   "source": [
    "Let's import the required libraries"
   ]
  },
  {
   "cell_type": "code",
   "execution_count": 1,
   "metadata": {
    "_cell_guid": "b1076dfc-b9ad-4769-8c92-a6c4dae69d19",
    "_uuid": "8f2839f25d086af736a60e9eeb907d3b93b6e0e5"
   },
   "outputs": [
    {
     "name": "stderr",
     "output_type": "stream",
     "text": [
      "Using TensorFlow backend.\n"
     ]
    },
    {
     "name": "stdout",
     "output_type": "stream",
     "text": [
      "/kaggle/input/creditcardfraud/creditcard.csv\n"
     ]
    }
   ],
   "source": [
    "# This Python 3 environment comes with many helpful analytics libraries installed\n",
    "# It is defined by the kaggle/python docker image: https://github.com/kaggle/docker-python\n",
    "# For example, here's several helpful packages to load in \n",
    "import warnings\n",
    "warnings.filterwarnings(\"ignore\")\n",
    "\n",
    "import numpy as np # linear algebra\n",
    "import pandas as pd # data processing, CSV file I/O (e.g. pd.read_csv)\n",
    "import matplotlib.pyplot as plt\n",
    "\n",
    "\n",
    "from sklearn.metrics import confusion_matrix, cohen_kappa_score\n",
    "from sklearn.metrics import f1_score, recall_score\n",
    "from sklearn.preprocessing import StandardScaler\n",
    "from sklearn.model_selection import train_test_split\n",
    "\n",
    "from keras.models import Model, load_model\n",
    "from keras.layers import Input, Dense\n",
    "from keras.callbacks import ModelCheckpoint, TensorBoard\n",
    "from keras import regularizers\n",
    "import tensorflow as tf\n",
    "\n",
    "\n",
    "# Input data files are available in the \"../input/\" directory.\n",
    "# For example, running this (by clicking run or pressing Shift+Enter) will list all files under the input directory\n",
    "\n",
    "import os\n",
    "for dirname, _, filenames in os.walk('/kaggle/input'):\n",
    "    for filename in filenames:\n",
    "        print(os.path.join(dirname, filename))\n",
    "\n",
    "# Any results you write to the current directory are saved as output."
   ]
  },
  {
   "cell_type": "markdown",
   "metadata": {},
   "source": [
    "Reading in data"
   ]
  },
  {
   "cell_type": "code",
   "execution_count": 2,
   "metadata": {
    "_cell_guid": "79c7e3d0-c299-4dcb-8224-4455121ee9b0",
    "_uuid": "d629ff2d2480ee46fbb7e2d37f6b5fab8052498a"
   },
   "outputs": [
    {
     "data": {
      "text/html": [
       "<div>\n",
       "<style scoped>\n",
       "    .dataframe tbody tr th:only-of-type {\n",
       "        vertical-align: middle;\n",
       "    }\n",
       "\n",
       "    .dataframe tbody tr th {\n",
       "        vertical-align: top;\n",
       "    }\n",
       "\n",
       "    .dataframe thead th {\n",
       "        text-align: right;\n",
       "    }\n",
       "</style>\n",
       "<table border=\"1\" class=\"dataframe\">\n",
       "  <thead>\n",
       "    <tr style=\"text-align: right;\">\n",
       "      <th></th>\n",
       "      <th>Time</th>\n",
       "      <th>V1</th>\n",
       "      <th>V2</th>\n",
       "      <th>V3</th>\n",
       "      <th>V4</th>\n",
       "      <th>V5</th>\n",
       "      <th>V6</th>\n",
       "      <th>V7</th>\n",
       "      <th>V8</th>\n",
       "      <th>V9</th>\n",
       "      <th>...</th>\n",
       "      <th>V21</th>\n",
       "      <th>V22</th>\n",
       "      <th>V23</th>\n",
       "      <th>V24</th>\n",
       "      <th>V25</th>\n",
       "      <th>V26</th>\n",
       "      <th>V27</th>\n",
       "      <th>V28</th>\n",
       "      <th>Amount</th>\n",
       "      <th>Class</th>\n",
       "    </tr>\n",
       "  </thead>\n",
       "  <tbody>\n",
       "    <tr>\n",
       "      <th>0</th>\n",
       "      <td>0.0</td>\n",
       "      <td>-1.359807</td>\n",
       "      <td>-0.072781</td>\n",
       "      <td>2.536347</td>\n",
       "      <td>1.378155</td>\n",
       "      <td>-0.338321</td>\n",
       "      <td>0.462388</td>\n",
       "      <td>0.239599</td>\n",
       "      <td>0.098698</td>\n",
       "      <td>0.363787</td>\n",
       "      <td>...</td>\n",
       "      <td>-0.018307</td>\n",
       "      <td>0.277838</td>\n",
       "      <td>-0.110474</td>\n",
       "      <td>0.066928</td>\n",
       "      <td>0.128539</td>\n",
       "      <td>-0.189115</td>\n",
       "      <td>0.133558</td>\n",
       "      <td>-0.021053</td>\n",
       "      <td>149.62</td>\n",
       "      <td>0</td>\n",
       "    </tr>\n",
       "    <tr>\n",
       "      <th>1</th>\n",
       "      <td>0.0</td>\n",
       "      <td>1.191857</td>\n",
       "      <td>0.266151</td>\n",
       "      <td>0.166480</td>\n",
       "      <td>0.448154</td>\n",
       "      <td>0.060018</td>\n",
       "      <td>-0.082361</td>\n",
       "      <td>-0.078803</td>\n",
       "      <td>0.085102</td>\n",
       "      <td>-0.255425</td>\n",
       "      <td>...</td>\n",
       "      <td>-0.225775</td>\n",
       "      <td>-0.638672</td>\n",
       "      <td>0.101288</td>\n",
       "      <td>-0.339846</td>\n",
       "      <td>0.167170</td>\n",
       "      <td>0.125895</td>\n",
       "      <td>-0.008983</td>\n",
       "      <td>0.014724</td>\n",
       "      <td>2.69</td>\n",
       "      <td>0</td>\n",
       "    </tr>\n",
       "    <tr>\n",
       "      <th>2</th>\n",
       "      <td>1.0</td>\n",
       "      <td>-1.358354</td>\n",
       "      <td>-1.340163</td>\n",
       "      <td>1.773209</td>\n",
       "      <td>0.379780</td>\n",
       "      <td>-0.503198</td>\n",
       "      <td>1.800499</td>\n",
       "      <td>0.791461</td>\n",
       "      <td>0.247676</td>\n",
       "      <td>-1.514654</td>\n",
       "      <td>...</td>\n",
       "      <td>0.247998</td>\n",
       "      <td>0.771679</td>\n",
       "      <td>0.909412</td>\n",
       "      <td>-0.689281</td>\n",
       "      <td>-0.327642</td>\n",
       "      <td>-0.139097</td>\n",
       "      <td>-0.055353</td>\n",
       "      <td>-0.059752</td>\n",
       "      <td>378.66</td>\n",
       "      <td>0</td>\n",
       "    </tr>\n",
       "    <tr>\n",
       "      <th>3</th>\n",
       "      <td>1.0</td>\n",
       "      <td>-0.966272</td>\n",
       "      <td>-0.185226</td>\n",
       "      <td>1.792993</td>\n",
       "      <td>-0.863291</td>\n",
       "      <td>-0.010309</td>\n",
       "      <td>1.247203</td>\n",
       "      <td>0.237609</td>\n",
       "      <td>0.377436</td>\n",
       "      <td>-1.387024</td>\n",
       "      <td>...</td>\n",
       "      <td>-0.108300</td>\n",
       "      <td>0.005274</td>\n",
       "      <td>-0.190321</td>\n",
       "      <td>-1.175575</td>\n",
       "      <td>0.647376</td>\n",
       "      <td>-0.221929</td>\n",
       "      <td>0.062723</td>\n",
       "      <td>0.061458</td>\n",
       "      <td>123.50</td>\n",
       "      <td>0</td>\n",
       "    </tr>\n",
       "    <tr>\n",
       "      <th>4</th>\n",
       "      <td>2.0</td>\n",
       "      <td>-1.158233</td>\n",
       "      <td>0.877737</td>\n",
       "      <td>1.548718</td>\n",
       "      <td>0.403034</td>\n",
       "      <td>-0.407193</td>\n",
       "      <td>0.095921</td>\n",
       "      <td>0.592941</td>\n",
       "      <td>-0.270533</td>\n",
       "      <td>0.817739</td>\n",
       "      <td>...</td>\n",
       "      <td>-0.009431</td>\n",
       "      <td>0.798278</td>\n",
       "      <td>-0.137458</td>\n",
       "      <td>0.141267</td>\n",
       "      <td>-0.206010</td>\n",
       "      <td>0.502292</td>\n",
       "      <td>0.219422</td>\n",
       "      <td>0.215153</td>\n",
       "      <td>69.99</td>\n",
       "      <td>0</td>\n",
       "    </tr>\n",
       "  </tbody>\n",
       "</table>\n",
       "<p>5 rows × 31 columns</p>\n",
       "</div>"
      ],
      "text/plain": [
       "   Time        V1        V2        V3        V4        V5        V6        V7  \\\n",
       "0   0.0 -1.359807 -0.072781  2.536347  1.378155 -0.338321  0.462388  0.239599   \n",
       "1   0.0  1.191857  0.266151  0.166480  0.448154  0.060018 -0.082361 -0.078803   \n",
       "2   1.0 -1.358354 -1.340163  1.773209  0.379780 -0.503198  1.800499  0.791461   \n",
       "3   1.0 -0.966272 -0.185226  1.792993 -0.863291 -0.010309  1.247203  0.237609   \n",
       "4   2.0 -1.158233  0.877737  1.548718  0.403034 -0.407193  0.095921  0.592941   \n",
       "\n",
       "         V8        V9  ...       V21       V22       V23       V24       V25  \\\n",
       "0  0.098698  0.363787  ... -0.018307  0.277838 -0.110474  0.066928  0.128539   \n",
       "1  0.085102 -0.255425  ... -0.225775 -0.638672  0.101288 -0.339846  0.167170   \n",
       "2  0.247676 -1.514654  ...  0.247998  0.771679  0.909412 -0.689281 -0.327642   \n",
       "3  0.377436 -1.387024  ... -0.108300  0.005274 -0.190321 -1.175575  0.647376   \n",
       "4 -0.270533  0.817739  ... -0.009431  0.798278 -0.137458  0.141267 -0.206010   \n",
       "\n",
       "        V26       V27       V28  Amount  Class  \n",
       "0 -0.189115  0.133558 -0.021053  149.62      0  \n",
       "1  0.125895 -0.008983  0.014724    2.69      0  \n",
       "2 -0.139097 -0.055353 -0.059752  378.66      0  \n",
       "3 -0.221929  0.062723  0.061458  123.50      0  \n",
       "4  0.502292  0.219422  0.215153   69.99      0  \n",
       "\n",
       "[5 rows x 31 columns]"
      ]
     },
     "execution_count": 2,
     "metadata": {},
     "output_type": "execute_result"
    }
   ],
   "source": [
    "data = pd.read_csv('/kaggle/input/creditcardfraud/creditcard.csv')\n",
    "data.head()"
   ]
  },
  {
   "cell_type": "markdown",
   "metadata": {},
   "source": [
    "Exploring in data "
   ]
  },
  {
   "cell_type": "code",
   "execution_count": 3,
   "metadata": {},
   "outputs": [
    {
     "name": "stdout",
     "output_type": "stream",
     "text": [
      "(284807, 31)\n",
      "Index(['Time', 'V1', 'V2', 'V3', 'V4', 'V5', 'V6', 'V7', 'V8', 'V9', 'V10',\n",
      "       'V11', 'V12', 'V13', 'V14', 'V15', 'V16', 'V17', 'V18', 'V19', 'V20',\n",
      "       'V21', 'V22', 'V23', 'V24', 'V25', 'V26', 'V27', 'V28', 'Amount',\n",
      "       'Class'],\n",
      "      dtype='object')\n"
     ]
    }
   ],
   "source": [
    "print(data.shape)\n",
    "print(data.columns)"
   ]
  },
  {
   "cell_type": "markdown",
   "metadata": {},
   "source": [
    "31 columns, 2 of which are Time and Amount. The rest are output from the PCA transformation"
   ]
  },
  {
   "cell_type": "markdown",
   "metadata": {},
   "source": [
    "Let’s check for missing values"
   ]
  },
  {
   "cell_type": "code",
   "execution_count": 4,
   "metadata": {},
   "outputs": [
    {
     "data": {
      "text/plain": [
       "False"
      ]
     },
     "execution_count": 4,
     "metadata": {},
     "output_type": "execute_result"
    }
   ],
   "source": [
    "data.isnull().sum().any()"
   ]
  },
  {
   "cell_type": "code",
   "execution_count": 5,
   "metadata": {},
   "outputs": [
    {
     "data": {
      "text/plain": [
       "Not Fraud    284315\n",
       "Fraud           492\n",
       "Name: Class, dtype: int64"
      ]
     },
     "execution_count": 5,
     "metadata": {},
     "output_type": "execute_result"
    }
   ],
   "source": [
    "data.Class.value_counts().rename(index = {0:'Not Fraud', 1:'Fraud'})"
   ]
  },
  {
   "cell_type": "markdown",
   "metadata": {},
   "source": [
    "Out of 285k transactions just 492 were labelled as fraudulent, it is a small percentage but may represent billions of dollars of lost revenue each year."
   ]
  },
  {
   "cell_type": "markdown",
   "metadata": {},
   "source": [
    "The PCA done on the dataset transformed it into standard-normal form. I will do the same to the 'time' and 'amount' columns"
   ]
  },
  {
   "cell_type": "code",
   "execution_count": 6,
   "metadata": {},
   "outputs": [],
   "source": [
    "data['Time'] = StandardScaler().fit_transform(data['Time'].values.reshape(-1, 1))\n",
    "data['Amount'] = StandardScaler().fit_transform(data['Amount'].values.reshape(-1, 1))"
   ]
  },
  {
   "cell_type": "markdown",
   "metadata": {},
   "source": [
    "Now we split the data into training and testing sets, And To evaluate the performance of our model we will training our model on the legitimate transactions,only, And Reserving the correct class on the test set."
   ]
  },
  {
   "cell_type": "code",
   "execution_count": 7,
   "metadata": {},
   "outputs": [],
   "source": [
    "train_x, test_x = train_test_split(data,test_size = 0.3,random_state=42)\n",
    "train_x = train_x[train_x.Class == 0] \n",
    "train_x = train_x.drop(['Class'], axis=1) \n",
    "\n",
    "\n",
    "test_y = test_x['Class']\n",
    "test_x = test_x.drop(['Class'], axis=1)"
   ]
  },
  {
   "cell_type": "markdown",
   "metadata": {},
   "source": [
    "Our Autoencoder uses 4 Desnse (fully connected) layers with 14, 7, 7 and 30 neurons respectively. The first two layers are used for our encoder, the last two go for the decoder."
   ]
  },
  {
   "cell_type": "code",
   "execution_count": 8,
   "metadata": {},
   "outputs": [],
   "source": [
    "input_dim = train_x.shape[1]\n",
    "encoding_dim = int(input_dim / 2) - 1\n",
    "hidden_dim = int(encoding_dim / 2)\n",
    "learning_rate = 1e-7\n",
    "\n",
    "input_layer = Input(shape=(input_dim, ))\n",
    "encoder = Dense(encoding_dim, activation=\"tanh\", activity_regularizer=regularizers.l1(learning_rate))(input_layer)\n",
    "encoder = Dense(hidden_dim, activation=\"relu\")(encoder)\n",
    "decoder = Dense(hidden_dim, activation='tanh')(encoder)\n",
    "decoder = Dense(input_dim, activation='relu')(decoder)\n",
    "autoencoder = Model(inputs=input_layer, outputs=decoder)\n"
   ]
  },
  {
   "cell_type": "markdown",
   "metadata": {},
   "source": [
    "We will train our model for 100 epochs with a batch size of 128 samples."
   ]
  },
  {
   "cell_type": "code",
   "execution_count": 9,
   "metadata": {},
   "outputs": [],
   "source": [
    "nb_epoch = 100\n",
    "batch_size = 128"
   ]
  },
  {
   "cell_type": "markdown",
   "metadata": {},
   "source": [
    "We will use Model Checkpoint to save the best model and TensorBoard for graph visualization"
   ]
  },
  {
   "cell_type": "code",
   "execution_count": 10,
   "metadata": {},
   "outputs": [
    {
     "name": "stdout",
     "output_type": "stream",
     "text": [
      "Train on 199008 samples, validate on 85443 samples\n",
      "Epoch 1/100\n",
      "199008/199008 [==============================] - 4s 19us/step - loss: 0.8704 - acc: 0.4893 - val_loss: 0.8154 - val_acc: 0.5763\n",
      "Epoch 2/100\n",
      "199008/199008 [==============================] - 3s 15us/step - loss: 0.7772 - acc: 0.5945 - val_loss: 0.7827 - val_acc: 0.6072\n",
      "Epoch 3/100\n",
      "199008/199008 [==============================] - 3s 15us/step - loss: 0.7547 - acc: 0.6105 - val_loss: 0.7688 - val_acc: 0.6159\n",
      "Epoch 4/100\n",
      "199008/199008 [==============================] - 3s 15us/step - loss: 0.7424 - acc: 0.6177 - val_loss: 0.7588 - val_acc: 0.6227\n",
      "Epoch 5/100\n",
      "199008/199008 [==============================] - 3s 15us/step - loss: 0.7347 - acc: 0.6274 - val_loss: 0.7531 - val_acc: 0.6347\n",
      "Epoch 6/100\n",
      "199008/199008 [==============================] - 3s 15us/step - loss: 0.7290 - acc: 0.6377 - val_loss: 0.7481 - val_acc: 0.6456\n",
      "Epoch 7/100\n",
      "199008/199008 [==============================] - 3s 16us/step - loss: 0.7242 - acc: 0.6477 - val_loss: 0.7451 - val_acc: 0.6537\n",
      "Epoch 8/100\n",
      "199008/199008 [==============================] - 3s 15us/step - loss: 0.7209 - acc: 0.6542 - val_loss: 0.7420 - val_acc: 0.6578\n",
      "Epoch 9/100\n",
      "199008/199008 [==============================] - 3s 15us/step - loss: 0.7184 - acc: 0.6585 - val_loss: 0.7403 - val_acc: 0.6623\n",
      "Epoch 10/100\n",
      "199008/199008 [==============================] - 3s 15us/step - loss: 0.7163 - acc: 0.6612 - val_loss: 0.7390 - val_acc: 0.6655\n",
      "Epoch 11/100\n",
      "199008/199008 [==============================] - 3s 16us/step - loss: 0.7146 - acc: 0.6647 - val_loss: 0.7370 - val_acc: 0.6647\n",
      "Epoch 12/100\n",
      "199008/199008 [==============================] - 3s 15us/step - loss: 0.7133 - acc: 0.6657 - val_loss: 0.7359 - val_acc: 0.6663\n",
      "Epoch 13/100\n",
      "199008/199008 [==============================] - 3s 15us/step - loss: 0.7119 - acc: 0.6679 - val_loss: 0.7353 - val_acc: 0.6673\n",
      "Epoch 14/100\n",
      "199008/199008 [==============================] - 3s 16us/step - loss: 0.7110 - acc: 0.6695 - val_loss: 0.7340 - val_acc: 0.6723\n",
      "Epoch 15/100\n",
      "199008/199008 [==============================] - 3s 16us/step - loss: 0.7098 - acc: 0.6708 - val_loss: 0.7334 - val_acc: 0.6785\n",
      "Epoch 16/100\n",
      "199008/199008 [==============================] - 3s 15us/step - loss: 0.7088 - acc: 0.6714 - val_loss: 0.7330 - val_acc: 0.6719\n",
      "Epoch 17/100\n",
      "199008/199008 [==============================] - 3s 15us/step - loss: 0.7082 - acc: 0.6730 - val_loss: 0.7313 - val_acc: 0.6743\n",
      "Epoch 18/100\n",
      "199008/199008 [==============================] - 3s 17us/step - loss: 0.7073 - acc: 0.6742 - val_loss: 0.7309 - val_acc: 0.6721\n",
      "Epoch 19/100\n",
      "199008/199008 [==============================] - 3s 16us/step - loss: 0.7069 - acc: 0.6755 - val_loss: 0.7308 - val_acc: 0.6723\n",
      "Epoch 20/100\n",
      "199008/199008 [==============================] - 3s 15us/step - loss: 0.7062 - acc: 0.6757 - val_loss: 0.7308 - val_acc: 0.6782\n",
      "Epoch 21/100\n",
      "199008/199008 [==============================] - 3s 15us/step - loss: 0.7060 - acc: 0.6773 - val_loss: 0.7320 - val_acc: 0.6755\n",
      "Epoch 22/100\n",
      "199008/199008 [==============================] - 3s 15us/step - loss: 0.7053 - acc: 0.6777 - val_loss: 0.7290 - val_acc: 0.6776\n",
      "Epoch 23/100\n",
      "199008/199008 [==============================] - 3s 16us/step - loss: 0.7048 - acc: 0.6781 - val_loss: 0.7288 - val_acc: 0.6839\n",
      "Epoch 24/100\n",
      "199008/199008 [==============================] - 3s 17us/step - loss: 0.7047 - acc: 0.6796 - val_loss: 0.7277 - val_acc: 0.6791\n",
      "Epoch 25/100\n",
      "199008/199008 [==============================] - 3s 16us/step - loss: 0.7042 - acc: 0.6795 - val_loss: 0.7277 - val_acc: 0.6821\n",
      "Epoch 26/100\n",
      "199008/199008 [==============================] - 3s 16us/step - loss: 0.7042 - acc: 0.6796 - val_loss: 0.7279 - val_acc: 0.6816\n",
      "Epoch 27/100\n",
      "199008/199008 [==============================] - 3s 15us/step - loss: 0.7035 - acc: 0.6791 - val_loss: 0.7269 - val_acc: 0.6823\n",
      "Epoch 28/100\n",
      "199008/199008 [==============================] - 3s 16us/step - loss: 0.7034 - acc: 0.6801 - val_loss: 0.7275 - val_acc: 0.6807\n",
      "Epoch 29/100\n",
      "199008/199008 [==============================] - 3s 15us/step - loss: 0.7031 - acc: 0.6797 - val_loss: 0.7281 - val_acc: 0.6789\n",
      "Epoch 30/100\n",
      "199008/199008 [==============================] - 3s 16us/step - loss: 0.7029 - acc: 0.6807 - val_loss: 0.7274 - val_acc: 0.6769\n",
      "Epoch 31/100\n",
      "199008/199008 [==============================] - 3s 16us/step - loss: 0.7032 - acc: 0.6807 - val_loss: 0.7266 - val_acc: 0.6812\n",
      "Epoch 32/100\n",
      "199008/199008 [==============================] - 3s 16us/step - loss: 0.7022 - acc: 0.6817 - val_loss: 0.7264 - val_acc: 0.6790\n",
      "Epoch 33/100\n",
      "199008/199008 [==============================] - 3s 16us/step - loss: 0.7020 - acc: 0.6821 - val_loss: 0.7255 - val_acc: 0.6806\n",
      "Epoch 34/100\n",
      "199008/199008 [==============================] - 3s 16us/step - loss: 0.7013 - acc: 0.6834 - val_loss: 0.7284 - val_acc: 0.6804\n",
      "Epoch 35/100\n",
      "199008/199008 [==============================] - 3s 16us/step - loss: 0.7010 - acc: 0.6827 - val_loss: 0.7243 - val_acc: 0.6846\n",
      "Epoch 36/100\n",
      "199008/199008 [==============================] - 3s 16us/step - loss: 0.7011 - acc: 0.6817 - val_loss: 0.7242 - val_acc: 0.6828\n",
      "Epoch 37/100\n",
      "199008/199008 [==============================] - 3s 15us/step - loss: 0.7005 - acc: 0.6816 - val_loss: 0.7254 - val_acc: 0.6808\n",
      "Epoch 38/100\n",
      "199008/199008 [==============================] - 3s 16us/step - loss: 0.7003 - acc: 0.6820 - val_loss: 0.7230 - val_acc: 0.6838\n",
      "Epoch 39/100\n",
      "199008/199008 [==============================] - 3s 16us/step - loss: 0.6997 - acc: 0.6824 - val_loss: 0.7262 - val_acc: 0.6840\n",
      "Epoch 40/100\n",
      "199008/199008 [==============================] - 3s 15us/step - loss: 0.6996 - acc: 0.6823 - val_loss: 0.7297 - val_acc: 0.6778\n",
      "Epoch 41/100\n",
      "199008/199008 [==============================] - 3s 15us/step - loss: 0.6998 - acc: 0.6813 - val_loss: 0.7232 - val_acc: 0.6840\n",
      "Epoch 42/100\n",
      "199008/199008 [==============================] - 3s 15us/step - loss: 0.6993 - acc: 0.6818 - val_loss: 0.7242 - val_acc: 0.6812\n",
      "Epoch 43/100\n",
      "199008/199008 [==============================] - 3s 16us/step - loss: 0.6991 - acc: 0.6821 - val_loss: 0.7227 - val_acc: 0.6861\n",
      "Epoch 44/100\n",
      "199008/199008 [==============================] - 3s 16us/step - loss: 0.6986 - acc: 0.6822 - val_loss: 0.7216 - val_acc: 0.6822\n",
      "Epoch 45/100\n",
      "199008/199008 [==============================] - 3s 15us/step - loss: 0.6986 - acc: 0.6828 - val_loss: 0.7267 - val_acc: 0.6829\n",
      "Epoch 46/100\n",
      "199008/199008 [==============================] - 3s 15us/step - loss: 0.6987 - acc: 0.6830 - val_loss: 0.7225 - val_acc: 0.6796\n",
      "Epoch 47/100\n",
      "199008/199008 [==============================] - 3s 15us/step - loss: 0.6987 - acc: 0.6832 - val_loss: 0.7213 - val_acc: 0.6800\n",
      "Epoch 48/100\n",
      "199008/199008 [==============================] - 3s 16us/step - loss: 0.6983 - acc: 0.6838 - val_loss: 0.7213 - val_acc: 0.6863\n",
      "Epoch 49/100\n",
      "199008/199008 [==============================] - 3s 15us/step - loss: 0.6982 - acc: 0.6840 - val_loss: 0.7214 - val_acc: 0.6795\n",
      "Epoch 50/100\n",
      "199008/199008 [==============================] - 3s 15us/step - loss: 0.6981 - acc: 0.6837 - val_loss: 0.7228 - val_acc: 0.6791\n",
      "Epoch 51/100\n",
      "199008/199008 [==============================] - 3s 16us/step - loss: 0.6980 - acc: 0.6844 - val_loss: 0.7200 - val_acc: 0.6876\n",
      "Epoch 52/100\n",
      "199008/199008 [==============================] - 3s 15us/step - loss: 0.6981 - acc: 0.6852 - val_loss: 0.7219 - val_acc: 0.6800\n",
      "Epoch 53/100\n",
      "199008/199008 [==============================] - 3s 15us/step - loss: 0.6977 - acc: 0.6847 - val_loss: 0.7209 - val_acc: 0.6869\n",
      "Epoch 54/100\n",
      "199008/199008 [==============================] - 3s 15us/step - loss: 0.6977 - acc: 0.6855 - val_loss: 0.7212 - val_acc: 0.6803\n",
      "Epoch 55/100\n",
      "199008/199008 [==============================] - 3s 16us/step - loss: 0.6977 - acc: 0.6854 - val_loss: 0.7217 - val_acc: 0.6823\n",
      "Epoch 56/100\n",
      "199008/199008 [==============================] - 3s 15us/step - loss: 0.6976 - acc: 0.6858 - val_loss: 0.7218 - val_acc: 0.6840\n",
      "Epoch 57/100\n",
      "199008/199008 [==============================] - 3s 15us/step - loss: 0.6975 - acc: 0.6856 - val_loss: 0.7206 - val_acc: 0.6862\n",
      "Epoch 58/100\n",
      "199008/199008 [==============================] - 3s 16us/step - loss: 0.6976 - acc: 0.6860 - val_loss: 0.7202 - val_acc: 0.6893\n",
      "Epoch 59/100\n",
      "199008/199008 [==============================] - 3s 15us/step - loss: 0.6975 - acc: 0.6865 - val_loss: 0.7218 - val_acc: 0.6824\n",
      "Epoch 60/100\n",
      "199008/199008 [==============================] - 3s 15us/step - loss: 0.6972 - acc: 0.6866 - val_loss: 0.7210 - val_acc: 0.6839\n",
      "Epoch 61/100\n",
      "199008/199008 [==============================] - 3s 15us/step - loss: 0.6970 - acc: 0.6873 - val_loss: 0.7206 - val_acc: 0.6836\n",
      "Epoch 62/100\n",
      "199008/199008 [==============================] - 3s 15us/step - loss: 0.6974 - acc: 0.6871 - val_loss: 0.7206 - val_acc: 0.6865\n",
      "Epoch 63/100\n",
      "199008/199008 [==============================] - 3s 15us/step - loss: 0.6972 - acc: 0.6870 - val_loss: 0.7200 - val_acc: 0.6866\n",
      "Epoch 64/100\n",
      "199008/199008 [==============================] - 3s 15us/step - loss: 0.6966 - acc: 0.6877 - val_loss: 0.7238 - val_acc: 0.6907\n",
      "Epoch 65/100\n",
      "199008/199008 [==============================] - 3s 16us/step - loss: 0.6969 - acc: 0.6882 - val_loss: 0.7202 - val_acc: 0.6912\n",
      "Epoch 66/100\n",
      "199008/199008 [==============================] - 3s 15us/step - loss: 0.6969 - acc: 0.6881 - val_loss: 0.7212 - val_acc: 0.6887\n",
      "Epoch 67/100\n",
      "199008/199008 [==============================] - 3s 15us/step - loss: 0.6967 - acc: 0.6884 - val_loss: 0.7276 - val_acc: 0.6806\n",
      "Epoch 68/100\n",
      "199008/199008 [==============================] - 3s 15us/step - loss: 0.6970 - acc: 0.6880 - val_loss: 0.7208 - val_acc: 0.6896\n",
      "Epoch 69/100\n",
      "199008/199008 [==============================] - 3s 15us/step - loss: 0.6971 - acc: 0.6885 - val_loss: 0.7208 - val_acc: 0.6869\n",
      "Epoch 70/100\n",
      "199008/199008 [==============================] - 3s 16us/step - loss: 0.6967 - acc: 0.6885 - val_loss: 0.7219 - val_acc: 0.6967\n",
      "Epoch 71/100\n",
      "199008/199008 [==============================] - 3s 16us/step - loss: 0.6968 - acc: 0.6890 - val_loss: 0.7202 - val_acc: 0.6877\n",
      "Epoch 72/100\n",
      "199008/199008 [==============================] - 3s 15us/step - loss: 0.6964 - acc: 0.6908 - val_loss: 0.7208 - val_acc: 0.6939\n",
      "Epoch 73/100\n",
      "199008/199008 [==============================] - 3s 16us/step - loss: 0.6964 - acc: 0.6900 - val_loss: 0.7196 - val_acc: 0.6902\n",
      "Epoch 74/100\n",
      "199008/199008 [==============================] - 3s 16us/step - loss: 0.6965 - acc: 0.6901 - val_loss: 0.7199 - val_acc: 0.6899\n",
      "Epoch 75/100\n",
      "199008/199008 [==============================] - 3s 17us/step - loss: 0.6963 - acc: 0.6907 - val_loss: 0.7201 - val_acc: 0.6906\n",
      "Epoch 76/100\n",
      "199008/199008 [==============================] - 3s 17us/step - loss: 0.6960 - acc: 0.6910 - val_loss: 0.7199 - val_acc: 0.6952\n",
      "Epoch 77/100\n",
      "199008/199008 [==============================] - 3s 15us/step - loss: 0.6965 - acc: 0.6903 - val_loss: 0.7240 - val_acc: 0.6852\n",
      "Epoch 78/100\n",
      "199008/199008 [==============================] - 3s 15us/step - loss: 0.6966 - acc: 0.6907 - val_loss: 0.7198 - val_acc: 0.6905\n",
      "Epoch 79/100\n",
      "199008/199008 [==============================] - 3s 15us/step - loss: 0.6964 - acc: 0.6917 - val_loss: 0.7190 - val_acc: 0.6919\n",
      "Epoch 80/100\n",
      "199008/199008 [==============================] - 3s 15us/step - loss: 0.6961 - acc: 0.6914 - val_loss: 0.7208 - val_acc: 0.6881\n",
      "Epoch 81/100\n",
      "199008/199008 [==============================] - 3s 16us/step - loss: 0.6962 - acc: 0.6910 - val_loss: 0.7245 - val_acc: 0.6886\n",
      "Epoch 82/100\n",
      "199008/199008 [==============================] - 3s 16us/step - loss: 0.6963 - acc: 0.6917 - val_loss: 0.7221 - val_acc: 0.6945\n",
      "Epoch 83/100\n",
      "199008/199008 [==============================] - 3s 16us/step - loss: 0.6956 - acc: 0.6921 - val_loss: 0.7193 - val_acc: 0.6926\n",
      "Epoch 84/100\n",
      "199008/199008 [==============================] - 3s 17us/step - loss: 0.6955 - acc: 0.6918 - val_loss: 0.7193 - val_acc: 0.6881\n",
      "Epoch 85/100\n",
      "199008/199008 [==============================] - 3s 16us/step - loss: 0.6956 - acc: 0.6920 - val_loss: 0.7318 - val_acc: 0.6976\n",
      "Epoch 86/100\n",
      "199008/199008 [==============================] - 3s 16us/step - loss: 0.6957 - acc: 0.6923 - val_loss: 0.7197 - val_acc: 0.6928\n",
      "Epoch 87/100\n",
      "199008/199008 [==============================] - 3s 15us/step - loss: 0.6957 - acc: 0.6915 - val_loss: 0.7192 - val_acc: 0.6913\n",
      "Epoch 88/100\n",
      "199008/199008 [==============================] - 3s 16us/step - loss: 0.6957 - acc: 0.6918 - val_loss: 0.7187 - val_acc: 0.6956\n",
      "Epoch 89/100\n",
      "199008/199008 [==============================] - 3s 15us/step - loss: 0.6953 - acc: 0.6919 - val_loss: 0.7192 - val_acc: 0.6921\n",
      "Epoch 90/100\n",
      "199008/199008 [==============================] - 3s 16us/step - loss: 0.6955 - acc: 0.6930 - val_loss: 0.7199 - val_acc: 0.6919\n",
      "Epoch 91/100\n",
      "199008/199008 [==============================] - 3s 16us/step - loss: 0.6955 - acc: 0.6928 - val_loss: 0.7183 - val_acc: 0.6910\n",
      "Epoch 92/100\n",
      "199008/199008 [==============================] - 3s 15us/step - loss: 0.6951 - acc: 0.6929 - val_loss: 0.7184 - val_acc: 0.6913\n",
      "Epoch 93/100\n",
      "199008/199008 [==============================] - 3s 17us/step - loss: 0.6953 - acc: 0.6928 - val_loss: 0.7214 - val_acc: 0.6967\n",
      "Epoch 94/100\n",
      "199008/199008 [==============================] - 4s 18us/step - loss: 0.6954 - acc: 0.6919 - val_loss: 0.7195 - val_acc: 0.6894\n",
      "Epoch 95/100\n",
      "199008/199008 [==============================] - 4s 19us/step - loss: 0.6951 - acc: 0.6922 - val_loss: 0.7186 - val_acc: 0.6898\n",
      "Epoch 96/100\n",
      "199008/199008 [==============================] - 4s 21us/step - loss: 0.6952 - acc: 0.6920 - val_loss: 0.7190 - val_acc: 0.6879\n",
      "Epoch 97/100\n",
      "199008/199008 [==============================] - 4s 20us/step - loss: 0.6948 - acc: 0.6922 - val_loss: 0.7190 - val_acc: 0.6941\n",
      "Epoch 98/100\n",
      "199008/199008 [==============================] - 4s 19us/step - loss: 0.6948 - acc: 0.6932 - val_loss: 0.7213 - val_acc: 0.6974\n",
      "Epoch 99/100\n",
      "199008/199008 [==============================] - 4s 19us/step - loss: 0.6953 - acc: 0.6920 - val_loss: 0.7182 - val_acc: 0.6999\n",
      "Epoch 100/100\n",
      "199008/199008 [==============================] - 4s 19us/step - loss: 0.6947 - acc: 0.6929 - val_loss: 0.7184 - val_acc: 0.6960\n"
     ]
    }
   ],
   "source": [
    "autoencoder.compile(metrics=['accuracy'],\n",
    "                    loss='mean_squared_error',\n",
    "                    optimizer='adam')\n",
    "\n",
    "cp = ModelCheckpoint(filepath=\"autoencoder_fraud.h5\",\n",
    "                               save_best_only=True,\n",
    "                               verbose=0)\n",
    "\n",
    "tb = TensorBoard(log_dir='./logs',\n",
    "                histogram_freq=0,\n",
    "                write_graph=True,\n",
    "                write_images=True)\n",
    "\n",
    "history = autoencoder.fit(train_x, train_x,\n",
    "                    epochs=nb_epoch,\n",
    "                    batch_size=batch_size,\n",
    "                    shuffle=True,\n",
    "                    validation_data=(test_x, test_x),\n",
    "                    verbose=1,\n",
    "                    callbacks=[cp, tb]).history"
   ]
  },
  {
   "cell_type": "code",
   "execution_count": 11,
   "metadata": {},
   "outputs": [],
   "source": [
    "autoencoder = load_model('autoencoder_fraud.h5')"
   ]
  },
  {
   "cell_type": "markdown",
   "metadata": {},
   "source": [
    "Model Visualization "
   ]
  },
  {
   "cell_type": "code",
   "execution_count": 12,
   "metadata": {},
   "outputs": [
    {
     "data": {
      "image/png": "[encoded data removed]",
      "text/plain": [
       "<Figure size 432x288 with 1 Axes>"
      ]
     },
     "metadata": {
      "needs_background": "light"
     },
     "output_type": "display_data"
    }
   ],
   "source": [
    "plt.plot(history['loss'], linewidth=2, label='Train')\n",
    "plt.plot(history['val_loss'], linewidth=2, label='Test')\n",
    "plt.legend(loc='upper right')\n",
    "plt.title('Model loss')\n",
    "plt.ylabel('Loss')\n",
    "plt.xlabel('Epoch')\n",
    "plt.show()"
   ]
  },
  {
   "cell_type": "markdown",
   "metadata": {},
   "source": [
    "seems like our model work nicely, now we will make the predictions."
   ]
  },
  {
   "cell_type": "code",
   "execution_count": 13,
   "metadata": {},
   "outputs": [],
   "source": [
    "pred = autoencoder.predict(test_x)"
   ]
  },
  {
   "cell_type": "markdown",
   "metadata": {},
   "source": [
    "Model evaluation"
   ]
  },
  {
   "cell_type": "code",
   "execution_count": 14,
   "metadata": {},
   "outputs": [],
   "source": [
    "mse = np.mean(np.power(test_x - pred, 2), axis=1)\n",
    "error_df = pd.DataFrame({'Reconstruction_error': mse,\n",
    "                        'True_class': test_y})"
   ]
  },
  {
   "cell_type": "code",
   "execution_count": 15,
   "metadata": {},
   "outputs": [
    {
     "data": {
      "text/plain": [
       "array([77.24055566,  0.87190388,  0.24955684, ...,  0.51939849,\n",
       "        0.24887566,  0.1524689 ])"
      ]
     },
     "execution_count": 15,
     "metadata": {},
     "output_type": "execute_result"
    }
   ],
   "source": [
    "error_df.Reconstruction_error.values"
   ]
  },
  {
   "cell_type": "markdown",
   "metadata": {},
   "source": [
    "we will use a threshold to separate between fraudulent transactions and legitimate transactions"
   ]
  },
  {
   "cell_type": "code",
   "execution_count": 16,
   "metadata": {},
   "outputs": [],
   "source": [
    "threshold_fixed = 5\n",
    "pred_y = [1 if e > threshold_fixed else 0 for e in error_df.Reconstruction_error.values]\n",
    "matrix = confusion_matrix(error_df.True_class, pred_y)"
   ]
  },
  {
   "cell_type": "code",
   "execution_count": 17,
   "metadata": {},
   "outputs": [],
   "source": [
    "tpos = matrix[0][0]\n",
    "fneg = matrix[1][1]\n",
    "fpos = matrix[0][1]\n",
    "tneg = matrix[1][0]"
   ]
  },
  {
   "cell_type": "code",
   "execution_count": 18,
   "metadata": {},
   "outputs": [
    {
     "name": "stdout",
     "output_type": "stream",
     "text": [
      "Accuracy: 98.88%\n",
      "Cohen Kappa: 0.162\n",
      "Sensitivity/Recall for Model : 0.69\n",
      "F1 Score for Model : 0.16\n"
     ]
    }
   ],
   "source": [
    "print( 'Accuracy: '+ str(np.round(100*float(tpos+fneg)/float(tpos+fneg + fpos + tneg),2))+'%')\n",
    "print( 'Cohen Kappa: '+ str(np.round(cohen_kappa_score(error_df.True_class, pred_y),3)))\n",
    "print(\"Sensitivity/Recall for Model : {}\".format(round(recall_score(error_df.True_class, pred_y), 2)))\n",
    "print(\"F1 Score for Model : {}\".format(round(f1_score(error_df.True_class, pred_y), 2)))"
   ]
  },
  {
   "cell_type": "markdown",
   "metadata": {},
   "source": [
    "This work is inspired by : https://www.datascience.com/blog/fraud-detection-with-tensorflow"
   ]
  }
 ],
 "metadata": {
  "kernelspec": {
   "display_name": "Python 3",
   "language": "python",
   "name": "python3"
  },
  "language_info": {
   "codemirror_mode": {
    "name": "ipython",
    "version": 3
   },
   "file_extension": ".py",
   "mimetype": "text/x-python",
   "name": "python",
   "nbconvert_exporter": "python",
   "pygments_lexer": "ipython3",
   "version": "3.6.6"
  }
 },
 "nbformat": 4,
 "nbformat_minor": 1
}
